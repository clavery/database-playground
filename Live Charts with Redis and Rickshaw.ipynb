{
 "metadata": {
  "name": "",
  "signature": "sha256:c46cf1145e012526b3111d2af3c79254ad599be1745e385e63609b976df1fa9d"
 },
 "nbformat": 3,
 "nbformat_minor": 0,
 "worksheets": [
  {
   "cells": [
    {
     "cell_type": "code",
     "collapsed": false,
     "input": [
      "from IPython.core.display import Javascript\n",
      "from redis import StrictRedis\n",
      "\n",
      "from IPython.html import widgets # Widget definitions\n",
      "from IPython.display import display # Used to display widgets in the notebook\n",
      "from IPython.utils.traitlets import Unicode, Float # Used to declare attributes of our widget\n",
      "\n",
      "class ChartWidget(widgets.DOMWidget):\n",
      "    _view_name = Unicode('ChartView', sync=True)\n",
      "    value = Float(sync=True)"
     ],
     "language": "python",
     "metadata": {},
     "outputs": [],
     "prompt_number": 71
    },
    {
     "cell_type": "code",
     "collapsed": false,
     "input": [
      "%%html\n",
      "\n",
      "<script type=\"text/javascript\" src=\"https://cdnjs.cloudflare.com/ajax/libs/d3/3.4.11/d3.js\"></script>\n",
      "<script type=\"text/javascript\" src=\"https://cdnjs.cloudflare.com/ajax/libs/rickshaw/1.4.6/rickshaw.js\"></script>"
     ],
     "language": "python",
     "metadata": {},
     "outputs": [
      {
       "html": [
        "\n",
        "<script type=\"text/javascript\" src=\"https://cdnjs.cloudflare.com/ajax/libs/d3/3.4.11/d3.js\"></script>\n",
        "<script type=\"text/javascript\" src=\"https://cdnjs.cloudflare.com/ajax/libs/rickshaw/1.4.6/rickshaw.js\"></script>"
       ],
       "metadata": {},
       "output_type": "display_data",
       "text": [
        "<IPython.core.display.HTML at 0x1126e0fd0>"
       ]
      }
     ],
     "prompt_number": 72
    },
    {
     "cell_type": "code",
     "collapsed": false,
     "input": [
      "%%javascript\n",
      "\n",
      "require([\"widgets/js/widget\"], function(WidgetManager){    \n",
      "    \n",
      "    var seriesData = [ \n",
      "                        { x: 0, y: 40 }, \n",
      "                        { x: 1, y: 49 }, \n",
      "                        { x: 2, y: 38 }, \n",
      "                        { x: 3, y: 30 }, \n",
      "                        { x: 4, y: 32 } ];\n",
      "    var x = 5;\n",
      "    var graph;\n",
      "    // Define the HandsonTableView\n",
      "    var ChartView = IPython.DOMWidgetView.extend({\n",
      "        \n",
      "        render: function(){\n",
      "            graph = new Rickshaw.Graph( {\n",
      "                element: this.$el[0], \n",
      "                width: 500, \n",
      "                height: 200, \n",
      "                series: [{\n",
      "                    color: 'steelblue',\n",
      "                    data: seriesData\n",
      "                }]\n",
      "            });\n",
      "\n",
      "            graph.render();\n",
      "        },\n",
      "        update: function() {\n",
      "            var newData = this.model.get('value');\n",
      "            console.log(\"newdata\", newData);\n",
      "            seriesData.push( { x: x, y: newData } );\n",
      "            x = x + 1;\n",
      "            graph.update();\n",
      "        }\n",
      "    });\n",
      "    \n",
      "    WidgetManager.register_widget_view('ChartView', ChartView);\n",
      "});"
     ],
     "language": "python",
     "metadata": {},
     "outputs": [
      {
       "javascript": [
        "\n",
        "require([\"widgets/js/widget\"], function(WidgetManager){    \n",
        "    \n",
        "    var seriesData = [ \n",
        "                        { x: 0, y: 40 }, \n",
        "                        { x: 1, y: 49 }, \n",
        "                        { x: 2, y: 38 }, \n",
        "                        { x: 3, y: 30 }, \n",
        "                        { x: 4, y: 32 } ];\n",
        "    var x = 5;\n",
        "    var graph;\n",
        "    // Define the HandsonTableView\n",
        "    var ChartView = IPython.DOMWidgetView.extend({\n",
        "        \n",
        "        render: function(){\n",
        "            graph = new Rickshaw.Graph( {\n",
        "                element: this.$el[0], \n",
        "                width: 500, \n",
        "                height: 200, \n",
        "                series: [{\n",
        "                    color: 'steelblue',\n",
        "                    data: seriesData\n",
        "                }]\n",
        "            });\n",
        "\n",
        "            graph.render();\n",
        "        },\n",
        "        update: function() {\n",
        "            var newData = this.model.get('value');\n",
        "            console.log(\"newdata\", newData);\n",
        "            seriesData.push( { x: x, y: newData } );\n",
        "            x = x + 1;\n",
        "            graph.update();\n",
        "        }\n",
        "    });\n",
        "    \n",
        "    WidgetManager.register_widget_view('ChartView', ChartView);\n",
        "});"
       ],
       "metadata": {},
       "output_type": "display_data",
       "text": [
        "<IPython.core.display.Javascript at 0x1106a2190>"
       ]
      }
     ],
     "prompt_number": 76
    },
    {
     "cell_type": "code",
     "collapsed": false,
     "input": [
      "widget = ChartWidget()\n",
      "widget"
     ],
     "language": "python",
     "metadata": {},
     "outputs": [],
     "prompt_number": 77
    },
    {
     "cell_type": "code",
     "collapsed": false,
     "input": [],
     "language": "python",
     "metadata": {},
     "outputs": [],
     "prompt_number": 68
    },
    {
     "cell_type": "code",
     "collapsed": false,
     "input": [
      "r = StrictRedis()\n",
      "p = r.pubsub(ignore_subscribe_messages=True)\n",
      "p.subscribe('test')"
     ],
     "language": "python",
     "metadata": {},
     "outputs": [],
     "prompt_number": 78
    },
    {
     "cell_type": "code",
     "collapsed": false,
     "input": [
      "for message in p.listen():\n",
      "    widget.value = float(message['data'])"
     ],
     "language": "python",
     "metadata": {},
     "outputs": []
    },
    {
     "cell_type": "code",
     "collapsed": false,
     "input": [],
     "language": "python",
     "metadata": {},
     "outputs": []
    }
   ],
   "metadata": {}
  }
 ]
}